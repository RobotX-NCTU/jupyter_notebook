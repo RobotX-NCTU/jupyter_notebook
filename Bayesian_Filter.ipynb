{
 "cells": [
  {
   "cell_type": "markdown",
   "metadata": {},
   "source": [
    "# Baysian Filter Tutorial "
   ]
  },
  {
   "cell_type": "code",
   "execution_count": 1,
   "metadata": {
    "collapsed": false
   },
   "outputs": [],
   "source": [
    "import numpy as np\n",
    "import random\n",
    "import matplotlib.pyplot as plt\n",
    "from scipy.stats import norm\n",
    "from sklearn.preprocessing import normalize\n",
    "import copy"
   ]
  },
  {
   "cell_type": "code",
   "execution_count": 2,
   "metadata": {
    "collapsed": true
   },
   "outputs": [],
   "source": [
    "def plt_array(arr):\n",
    "    plt.plot(np.arange(len(arr)), arr, 'ro')\n",
    "    plt.axis([-1, 10, 0, 1])\n",
    "    plt.show()"
   ]
  },
  {
   "cell_type": "markdown",
   "metadata": {},
   "source": [
    "To know Baysian Filter, you should be clear about Bayes Theorem"
   ]
  },
  {
   "cell_type": "markdown",
   "metadata": {},
   "source": [
    "## Bayes Theorem "
   ]
  },
  {
   "cell_type": "markdown",
   "metadata": {},
   "source": [
    "[*Bayes Theorem*](https://en.wikipedia.org/wiki/Bayes%27_theorem) tells us how to compute the probability of an event given previous information.\n",
    "$$ \\mathtt{posterior} = \\frac{\\mathtt{likelihood}\\times \\mathtt{prior}}{\\mathtt{normalization}}$$"
   ]
  },
  {
   "cell_type": "markdown",
   "metadata": {},
   "source": [
    "To review, the *prior* is the probability of something happening before we include the probability of the measurement (the *likelihood*) and the *posterior* is the probability we compute after incorporating the information from the measurement."
   ]
  },
  {
   "cell_type": "markdown",
   "metadata": {},
   "source": [
    "Bayes theorem is\n",
    "\n",
    "$$P(A \\mid B) = \\frac{P(B \\mid A)\\, P(A)}{P(B)}$$"
   ]
  },
  {
   "cell_type": "markdown",
   "metadata": {},
   "source": [
    "If you are not familiar with this notation, let's review. $P(A)$ means the probability of event $A$. If $A$ is the event of a fair coin landing heads, then $P(A) = 0.5$."
   ]
  },
  {
   "cell_type": "markdown",
   "metadata": {},
   "source": [
    "$P(A \\mid B)$ is called a [*conditional probability*](https://en.wikipedia.org/wiki/Conditional_probability). That is, it represents the probability of $A$ happening *if* $B$ happened. For example, it is more likely to rain today if it also rained yesterday because rain systems usually last more than one day. We'd write the probability of it raining today given that it rained yesterday as $$P(\\mathtt{rain\\_today} \\mid \\mathtt{rain\\_yesterday})$$."
   ]
  },
  {
   "cell_type": "markdown",
   "metadata": {},
   "source": [
    "In the Bayes theorem equation above $B$ is the *evidence*, $P(A)$ is the *prior*, $P(B \\mid A)$ is the *likelihood*, and $P(A \\mid B)$ is the *posterior*. By substituting the mathematical terms with the corresponding words  you can see that Bayes theorem matches out update equation. "
   ]
  },
  {
   "cell_type": "markdown",
   "metadata": {},
   "source": [
    "## Let's see an example "
   ]
  },
  {
   "cell_type": "markdown",
   "metadata": {},
   "source": [
    "Our task here is to track a robot. The robot is moving in a one dimensional track. It has a GPS sensor that returns its current position with accuracy. "
   ]
  },
  {
   "cell_type": "markdown",
   "metadata": {},
   "source": [
    "We will use $x$ for the position, and $Z$ for the measurement. Hence, we want to know $P(x \\mid Z)$, that is, the probability of the dog being at $x$ given the measurement $Z$. \n",
    "\n",
    "So, let's plug that into the equation and solve it.\n",
    "\n",
    "$$P(x \\mid Z) = \\frac{P(Z \\mid x) P(x)}{P(Z)}$$"
   ]
  },
  {
   "cell_type": "markdown",
   "metadata": {},
   "source": [
    "That looks ugly, but it is actually quite simple. Let's figure out what each term on the right means. First is $P(Z \\mid x)$. This is the the likelihood, or the probability for the measurement at $x$. $P(x)$ is the *prior* - our belief before incorporating the measurements. For P(Z) it is the normalization term which can be obtained by $P(Z) = \\sum_x(P(Z \\mid x)P(x))$"
   ]
  },
  {
   "cell_type": "markdown",
   "metadata": {},
   "source": [
    "### Let's see the discrete case:\n",
    "\n",
    "The discrete case: I assume the robot's track has ten stops"
   ]
  },
  {
   "cell_type": "code",
   "execution_count": 3,
   "metadata": {
    "collapsed": false
   },
   "outputs": [
    {
     "name": "stdout",
     "output_type": "stream",
     "text": [
      "[0 1 2 3 4 5 6 7 8 9]\n"
     ]
    }
   ],
   "source": [
    "stops = np.array([0, 1, 2, 3, 4, 5, 6, 7, 8, 9])\n",
    "print stops"
   ]
  },
  {
   "cell_type": "markdown",
   "metadata": {},
   "source": [
    "So now our possible locations($x$) are 0 to 9 and our measurements($Z$) are also 0 to 9"
   ]
  },
  {
   "cell_type": "markdown",
   "metadata": {},
   "source": [
    "We don't know our robot's first location which infers that we have a prior like this:"
   ]
  },
  {
   "cell_type": "code",
   "execution_count": 4,
   "metadata": {
    "collapsed": false
   },
   "outputs": [
    {
     "name": "stdout",
     "output_type": "stream",
     "text": [
      "[ 0.1  0.1  0.1  0.1  0.1  0.1  0.1  0.1  0.1  0.1]\n"
     ]
    },
    {
     "data": {
      "image/png": "[encoded data removed]",
      "text/plain": [
       "<matplotlib.figure.Figure at 0x7f1a2346b7d0>"
      ]
     },
     "metadata": {},
     "output_type": "display_data"
    }
   ],
   "source": [
    "prior = np.array([0.1, 0.1, 0.1, 0.1, 0.1, 0.1, 0.1, 0.1, 0.1, 0.1])\n",
    "print prior\n",
    "plt_array(prior)"
   ]
  },
  {
   "cell_type": "markdown",
   "metadata": {},
   "source": [
    "This means that the robot has the same probability in every stop"
   ]
  },
  {
   "cell_type": "markdown",
   "metadata": {},
   "source": [
    "Now we get a measurement($Z$) for the robot's sensor\n",
    "\n",
    "$Z = 3$ with accuracy = 0.6\n",
    "\n",
    "so we can calculate the likelihood function $P(Z \\mid x)$\n",
    "\n",
    "The accuracy here can be converted to a probability scale($ps$): $$ps = (accuracy / 1-accuracy)$$\n"
   ]
  },
  {
   "cell_type": "code",
   "execution_count": 5,
   "metadata": {
    "collapsed": false
   },
   "outputs": [
    {
     "name": "stdout",
     "output_type": "stream",
     "text": [
      "1.5\n"
     ]
    }
   ],
   "source": [
    "Z = 3\n",
    "accuracy = 0.6\n",
    "ps = accuracy/(1-accuracy)\n",
    "print ps\n",
    "likelihood = np.ones(len(stops), dtype=float)*0.1\n",
    "likelihood[stops==Z] *= ps"
   ]
  },
  {
   "cell_type": "code",
   "execution_count": 6,
   "metadata": {
    "collapsed": false
   },
   "outputs": [
    {
     "name": "stdout",
     "output_type": "stream",
     "text": [
      "[ 0.1   0.1   0.1   0.15  0.1   0.1   0.1   0.1   0.1   0.1 ]\n"
     ]
    },
    {
     "data": {
      "image/png": "[encoded data removed]",
      "text/plain": [
       "<matplotlib.figure.Figure at 0x7f1a20bf46d0>"
      ]
     },
     "metadata": {},
     "output_type": "display_data"
    }
   ],
   "source": [
    "print likelihood\n",
    "plt_array(likelihood)"
   ]
  },
  {
   "cell_type": "markdown",
   "metadata": {},
   "source": [
    "As you can see here, the likelihood function is not a probability distribution. The sum of all $x$ is not 1"
   ]
  },
  {
   "cell_type": "markdown",
   "metadata": {},
   "source": [
    "Now lets calulate $P(Z)$"
   ]
  },
  {
   "cell_type": "code",
   "execution_count": 7,
   "metadata": {
    "collapsed": false
   },
   "outputs": [
    {
     "name": "stdout",
     "output_type": "stream",
     "text": [
      "0.105\n"
     ]
    }
   ],
   "source": [
    "normalization_factor = np.sum(likelihood*prior)\n",
    "print normalization_factor"
   ]
  },
  {
   "cell_type": "markdown",
   "metadata": {},
   "source": [
    "After we've got all the values on the right hand side of the bayes formula:\n",
    "$$P(x \\mid Z) = \\frac{P(Z \\mid x) P(x)}{P(Z)}$$"
   ]
  },
  {
   "cell_type": "code",
   "execution_count": 8,
   "metadata": {
    "collapsed": false
   },
   "outputs": [],
   "source": [
    "posterior = (likelihood*prior)/normalization_factor"
   ]
  },
  {
   "cell_type": "code",
   "execution_count": 9,
   "metadata": {
    "collapsed": false
   },
   "outputs": [
    {
     "data": {
      "image/png": "[encoded data removed]",
      "text/plain": [
       "<matplotlib.figure.Figure at 0x7f1a20be5710>"
      ]
     },
     "metadata": {},
     "output_type": "display_data"
    }
   ],
   "source": [
    "plt_array(posterior)"
   ]
  },
  {
   "cell_type": "markdown",
   "metadata": {},
   "source": [
    "As you can see the probabilty of at x=3 is slightly bigger than other locations"
   ]
  },
  {
   "cell_type": "markdown",
   "metadata": {},
   "source": [
    "For bayes filter, we do this process recursively:\n",
    "\n",
    "Which means that we take every posterior and make it  the prior of the next iteration"
   ]
  },
  {
   "cell_type": "markdown",
   "metadata": {},
   "source": [
    "For convenience, I make the previous steps into a function that I can simple call in every iteration"
   ]
  },
  {
   "cell_type": "code",
   "execution_count": 10,
   "metadata": {
    "collapsed": true
   },
   "outputs": [],
   "source": [
    "def update(prior, stops, measurement, accuracy):\n",
    "    Z = measurement\n",
    "    ps = accuracy/(1-accuracy)\n",
    "    likelihood = np.ones(len(stops), dtype=float)\n",
    "    likelihood[stops==Z] *= ps\n",
    "    normalization_factor = np.sum(likelihood*prior)\n",
    "    posterior = (likelihood*prior)/normalization_factor\n",
    "    return posterior"
   ]
  },
  {
   "cell_type": "markdown",
   "metadata": {},
   "source": [
    "Let's initialize stops and prior as we previously did "
   ]
  },
  {
   "cell_type": "code",
   "execution_count": 11,
   "metadata": {
    "collapsed": true
   },
   "outputs": [],
   "source": [
    "stops = np.array([0, 1, 2, 3, 4, 5, 6, 7, 8, 9])\n",
    "prior = np.array([0.1, 0.1, 0.1, 0.1, 0.1, 0.1, 0.1, 0.1, 0.1, 0.1])"
   ]
  },
  {
   "cell_type": "markdown",
   "metadata": {},
   "source": [
    "Now let's call update recursively and plot the posterior in each iteration. We assume that the sensor has a consistent measurement Z=3 accuracy=0.9"
   ]
  },
  {
   "cell_type": "code",
   "execution_count": 12,
   "metadata": {
    "collapsed": false,
    "scrolled": false
   },
   "outputs": [
    {
     "data": {
      "image/png": "[encoded data removed]",
      "text/plain": [
       "<matplotlib.figure.Figure at 0x7f1a207eb310>"
      ]
     },
     "metadata": {},
     "output_type": "display_data"
    },
    {
     "data": {
      "image/png": "[encoded data removed]",
      "text/plain": [
       "<matplotlib.figure.Figure at 0x7f1a20b37350>"
      ]
     },
     "metadata": {},
     "output_type": "display_data"
    },
    {
     "data": {
      "image/png": "[encoded data removed]",
      "text/plain": [
       "<matplotlib.figure.Figure at 0x7f1a20a95590>"
      ]
     },
     "metadata": {},
     "output_type": "display_data"
    },
    {
     "data": {
      "image/png": "[encoded data removed]",
      "text/plain": [
       "<matplotlib.figure.Figure at 0x7f1a20b7f4d0>"
      ]
     },
     "metadata": {},
     "output_type": "display_data"
    },
    {
     "data": {
      "image/png": "[encoded data removed]",
      "text/plain": [
       "<matplotlib.figure.Figure at 0x7f1a2071fc50>"
      ]
     },
     "metadata": {},
     "output_type": "display_data"
    }
   ],
   "source": [
    "Z = 3\n",
    "accuracy = 0.6\n",
    "for i in range(5):\n",
    "    posterior = update(prior, stops, Z, accuracy)\n",
    "    plt_array(posterior)\n",
    "    prior = posterior"
   ]
  },
  {
   "cell_type": "markdown",
   "metadata": {},
   "source": [
    "As you can see here, the probabilty of $x=3$ increases gradually. It makes sense because the sensor has consistent getting measurements at $x=3$ which convinces us that the robot is really here."
   ]
  },
  {
   "cell_type": "markdown",
   "metadata": {},
   "source": [
    "Let's do the add some noise to the measurement for more realistic results"
   ]
  },
  {
   "cell_type": "markdown",
   "metadata": {},
   "source": [
    "We create a random number R between 0~1\n",
    "\n",
    "$if R<0.2$ => $Z-1, accuracy-0.3$\n",
    "\n",
    "$if R>0.8$ => $Z+1, accuracy-0.3$"
   ]
  },
  {
   "cell_type": "code",
   "execution_count": 13,
   "metadata": {
    "collapsed": false,
    "scrolled": true
   },
   "outputs": [
    {
     "data": {
      "image/png": "[encoded data removed]",
      "text/plain": [
       "<matplotlib.figure.Figure at 0x7f1a20c50610>"
      ]
     },
     "metadata": {},
     "output_type": "display_data"
    },
    {
     "data": {
      "image/png": "[encoded data removed]",
      "text/plain": [
       "<matplotlib.figure.Figure at 0x7f1a205f2910>"
      ]
     },
     "metadata": {},
     "output_type": "display_data"
    },
    {
     "data": {
      "image/png": "[encoded data removed]",
      "text/plain": [
       "<matplotlib.figure.Figure at 0x7f1a2052ed90>"
      ]
     },
     "metadata": {},
     "output_type": "display_data"
    },
    {
     "data": {
      "image/png": "[encoded data removed]",
      "text/plain": [
       "<matplotlib.figure.Figure at 0x7f1a20462490>"
      ]
     },
     "metadata": {},
     "output_type": "display_data"
    },
    {
     "data": {
      "image/png": "[encoded data removed]",
      "text/plain": [
       "<matplotlib.figure.Figure at 0x7f1a2038bc10>"
      ]
     },
     "metadata": {},
     "output_type": "display_data"
    }
   ],
   "source": [
    "Z = 3\n",
    "accuracy = 0.6\n",
    "for i in range(5):\n",
    "    R = random.random()\n",
    "    if R<0.2:  \n",
    "        posterior = update(prior, stops, Z-1, accuracy-0.3)\n",
    "    if R>0.8:  \n",
    "        posterior = update(prior, stops, Z+1, accuracy-0.3)\n",
    "    else:\n",
    "        posterior = update(prior, stops, Z, accuracy)\n",
    "    plt_array(posterior)\n",
    "    prior = posterior"
   ]
  },
  {
   "cell_type": "markdown",
   "metadata": {},
   "source": [
    "This is only the update part of the Baysian Filter. The other part is the prediction part. In other words, we assume that the robot is not moving anywhere throughout every iteration."
   ]
  },
  {
   "cell_type": "markdown",
   "metadata": {},
   "source": [
    "For the prediction, the idea is very simple. If the robot moves right by N units, we shift the prior left by N units"
   ]
  },
  {
   "cell_type": "code",
   "execution_count": 14,
   "metadata": {
    "collapsed": false
   },
   "outputs": [
    {
     "data": {
      "image/png": "[encoded data removed]",
      "text/plain": [
       "<matplotlib.figure.Figure at 0x7f1a206ad890>"
      ]
     },
     "metadata": {},
     "output_type": "display_data"
    },
    {
     "data": {
      "image/png": "[encoded data removed]",
      "text/plain": [
       "<matplotlib.figure.Figure at 0x7f1a206ad6d0>"
      ]
     },
     "metadata": {},
     "output_type": "display_data"
    }
   ],
   "source": [
    "N=2\n",
    "plt_array(prior)\n",
    "predicted_prior = copy.copy(prior)\n",
    "for i in range(len(prior)):\n",
    "    predicted_prior[i]=prior[(i-N)%(len(prior))]\n",
    "plt_array(predicted_prior)"
   ]
  },
  {
   "cell_type": "markdown",
   "metadata": {},
   "source": [
    "For more realistic cases, prediction may also have uncertainty. We can write down the probabilities to each movement"
   ]
  },
  {
   "cell_type": "markdown",
   "metadata": {},
   "source": [
    "move right N-1 units with probability of 0.2\n",
    "\n",
    "move right N units with probability of 0.6\n",
    "\n",
    "move right N+1 units with probability of 0.2"
   ]
  },
  {
   "cell_type": "code",
   "execution_count": 15,
   "metadata": {
    "collapsed": false
   },
   "outputs": [
    {
     "data": {
      "image/png": "[encoded data removed]",
      "text/plain": [
       "<matplotlib.figure.Figure at 0x7f1a2032b050>"
      ]
     },
     "metadata": {},
     "output_type": "display_data"
    },
    {
     "data": {
      "image/png": "[encoded data removed]",
      "text/plain": [
       "<matplotlib.figure.Figure at 0x7f1a2032b1d0>"
      ]
     },
     "metadata": {},
     "output_type": "display_data"
    }
   ],
   "source": [
    "N=2\n",
    "plt_array(prior)\n",
    "predicted_prior = copy.copy(prior)\n",
    "for i in range(len(prior)):\n",
    "    predicted_prior[i]=prior[(i-N+1)%(len(prior))]*0.2+prior[(i-N)%(len(prior))]*0.6+prior[(i-N-1)%(len(prior))]*0.2\n",
    "plt_array(predicted_prior)"
   ]
  },
  {
   "cell_type": "markdown",
   "metadata": {},
   "source": [
    "What we're doing above is actually convolution. [0.2 0.6 0.2] is our kernel"
   ]
  },
  {
   "cell_type": "code",
   "execution_count": 16,
   "metadata": {
    "collapsed": false
   },
   "outputs": [
    {
     "ename": "NameError",
     "evalue": "name 'kernel' is not defined",
     "output_type": "error",
     "traceback": [
      "\u001b[0;31m---------------------------------------------------------------------------\u001b[0m",
      "\u001b[0;31mNameError\u001b[0m                                 Traceback (most recent call last)",
      "\u001b[0;32m<ipython-input-16-bfe6b762889f>\u001b[0m in \u001b[0;36m<module>\u001b[0;34m()\u001b[0m\n\u001b[0;32m----> 1\u001b[0;31m \u001b[0mplt_array\u001b[0m\u001b[0;34m(\u001b[0m\u001b[0mnp\u001b[0m\u001b[0;34m.\u001b[0m\u001b[0mconvolve\u001b[0m\u001b[0;34m(\u001b[0m\u001b[0mnp\u001b[0m\u001b[0;34m.\u001b[0m\u001b[0mroll\u001b[0m\u001b[0;34m(\u001b[0m\u001b[0mprior\u001b[0m\u001b[0;34m,\u001b[0m \u001b[0;36m2\u001b[0m\u001b[0;34m)\u001b[0m\u001b[0;34m,\u001b[0m \u001b[0mkernel\u001b[0m\u001b[0;34m)\u001b[0m\u001b[0;34m)\u001b[0m\u001b[0;34m\u001b[0m\u001b[0m\n\u001b[0m",
      "\u001b[0;31mNameError\u001b[0m: name 'kernel' is not defined"
     ]
    }
   ],
   "source": [
    "plt_array(np.convolve(np.roll(prior, 2), kernel))"
   ]
  },
  {
   "cell_type": "code",
   "execution_count": null,
   "metadata": {
    "collapsed": false
   },
   "outputs": [],
   "source": [
    "N=2\n",
    "plt_array(prior)\n",
    "kernel = np.array([0.2, 0.6, 0.2])\n",
    "predicted_prior = np.convolve(np.roll(prior, N-1), kernel) # NOTE: it is N-1 because the kernel[0]=0.2 but we want it to be 0.6\n",
    "plt_array(predicted_prior)"
   ]
  },
  {
   "cell_type": "markdown",
   "metadata": {},
   "source": [
    "## For each iteration in Bayes Filter we predict first then update."
   ]
  },
  {
   "cell_type": "markdown",
   "metadata": {},
   "source": [
    "The filter equations are:\n",
    "\n",
    "$$\\begin{aligned} \\bar {\\mathbf x} &= \\mathbf x \\ast f_{\\mathbf x}(\\bullet)\\, \\, &\\text{Predict Step} \\\\\n",
    "\\mathbf x &= \\|\\mathcal L \\cdot \\bar{\\mathbf x}\\|\\, \\, &\\text{Update Step}\\end{aligned}$$\n",
    "\n",
    "\n",
    "We can express this whole process in pseudocode.\n",
    "\n",
    "**Initialization**\n",
    "\n",
    "    1. Initialize our belief in the state\n",
    "    \n",
    "**while(1){**\n",
    "\n",
    "\n",
    "**Predict**\n",
    "\n",
    "    1. Based on the system behavior, predict state at the next time step\n",
    "    2. Adjust belief to account for the uncertainty in prediction\n",
    "    \n",
    "**Update**\n",
    "\n",
    "    1. Get a measurement and associated belief about its accuracy\n",
    "    2. Compute residual between estimated state and measurement\n",
    "    3. Determine whether the measurement matches each state\n",
    "    4. Update state belief if it matches the measurement\n",
    "**}** \n"
   ]
  },
  {
   "cell_type": "markdown",
   "metadata": {},
   "source": [
    "One important thing I'm addressing is that the above discrete bayes filter is easy to implement. We simply calculate each values for each $x$. However you can't do that in the continuous state space."
   ]
  },
  {
   "cell_type": "markdown",
   "metadata": {},
   "source": [
    "### Let's see the continuous case"
   ]
  },
  {
   "cell_type": "markdown",
   "metadata": {},
   "source": [
    "#### For the update step:"
   ]
  },
  {
   "cell_type": "markdown",
   "metadata": {},
   "source": [
    "Let's revisit the bayes formula\n",
    "$$P(x \\mid Z) = \\frac{P(Z \\mid x) P(x)}{P(Z)}$$"
   ]
  },
  {
   "cell_type": "markdown",
   "metadata": {},
   "source": [
    "Let's make the continuous state space x be in $\\{0,9\\}$\n",
    "\n",
    "$P(x)$ is the prior, which means the probabilty distribution of the robots position x. For initialization, we simply define it as an a uniform distibution in scope $\\{0,9\\}$\n",
    "\n",
    "However, $P(Z \\mid x)$ is based on the properties of the sensor. It could be any type of probability distribution.\n",
    "\n",
    "For $P(Z)$ we simply change the summation to integration\n",
    "$${\\int P(Z \\mid x) P(x) \\mathtt{d}x}\\cdot$$\n",
    "\n",
    "Every term seems pretty simple here. But if you start calculating recursively the product of $P(Z \\mid x)$ and $P(x)$ becomes more and more complicated after each iteration\n"
   ]
  },
  {
   "cell_type": "markdown",
   "metadata": {},
   "source": [
    "#### For the predict step:"
   ]
  },
  {
   "cell_type": "markdown",
   "metadata": {},
   "source": [
    "$$\\bar {\\mathbf x} = \\mathbf x \\ast f_{\\mathbf x}(\\bullet)\\ $$"
   ]
  },
  {
   "cell_type": "markdown",
   "metadata": {},
   "source": [
    "If x and $f_x$ are both strange distributions, we can't simplify this form. Calculating convolutions also require lots of computation power"
   ]
  },
  {
   "cell_type": "markdown",
   "metadata": {},
   "source": [
    "#### The savior: Gaussian Distribution "
   ]
  },
  {
   "cell_type": "markdown",
   "metadata": {},
   "source": [
    "To fix all these problems in the update and predict steps, we use the property that products of gaussians are still gaussian. And the mean and variance can be simply formulated.\n",
    "\n",
    "$$N(\\mu_1, \\sigma_1^2)xN(\\mu_2, \\sigma_2^2)=N(\\frac{\\sigma_1^2\\mu_2+\\sigma_2^2\\mu_1}{\\sigma_1^2+\\sigma_2^2}, \\frac{1}{\\frac{1}{\\sigma_1^2}+\\frac{1}{\\sigma_2^2}})$$\n",
    "\n",
    "Another property of the gaussian distribution is that it remains gaussian after Fourier transform.\n",
    "So the fourier transform of the convolution of two gaussian functions is equal to multiplication of two gaussian functions.  \n",
    "\n",
    "By calculating the product in Frequency space and transforming back, you can find that the convolution of two gaussian is equal to the sum of two gaussians.\n",
    "\n",
    "First gaussian distribution $N(a, A)$\n",
    "\n",
    "Second gaussian distribution $N(b, B)$\n",
    "\n",
    "$$F(N(a, A))=N(iA^{-1}a, A^{-1})$$\n",
    "$$F(N(b, B))=N(iB^{-1}b, B^{-1})$$\n",
    "\n",
    "$$F(N(a, A))*F(N(b, B)) = N(\\frac{A^{-1}iB^{-1}b+B^{-1}iA^{-1}a}{A^{-1}+B^{-1}}, (A+B)^{-1})$$\n",
    "\n",
    "$$=N(i(A+B)^{-1}(a+b), (A+B)^{-1})$$\n",
    "\n",
    "Let $C = (A+B)^{-1}$\n",
    "\n",
    "$$F^{-1}(N(iC(a+b),C)) = N(a+b, A+B)$$\n",
    "\n",
    "So if we assume every probabilty as an gaussian distribution, the Bayesian Filter can be simplifed to a closed form representation called Kalman Filter"
   ]
  },
  {
   "cell_type": "markdown",
   "metadata": {},
   "source": [
    "## Kalman Filter"
   ]
  },
  {
   "cell_type": "markdown",
   "metadata": {},
   "source": [
    "#### Update step:"
   ]
  },
  {
   "cell_type": "markdown",
   "metadata": {},
   "source": [
    "Let's do the previous calculation with the assumption: sensor probability is gaussian distribution with mean($\\mu$) = measurement and a standard deviation($\\sigma$) = $(variance)^{0.5}$"
   ]
  },
  {
   "cell_type": "code",
   "execution_count": null,
   "metadata": {
    "collapsed": true
   },
   "outputs": [],
   "source": [
    "def measurement(measurementx, variance):\n",
    "    likelihood = norm(loc = measurementx, scale = np.sqrt(variance))\n",
    "    return likelihood"
   ]
  },
  {
   "cell_type": "code",
   "execution_count": null,
   "metadata": {
    "collapsed": false
   },
   "outputs": [],
   "source": [
    "fig, ax = plt.subplots(1, 1)\n",
    "likelihood = measurement(3, 0.5)"
   ]
  },
  {
   "cell_type": "code",
   "execution_count": null,
   "metadata": {
    "collapsed": false,
    "scrolled": false
   },
   "outputs": [],
   "source": [
    "x = np.linspace(0, 10, 100)\n",
    "ax.plot(x, likelihood.pdf(x), 'r-', lw=5, alpha=1)\n",
    "plt.axis([-1, 10, 0, 1])\n",
    "plt.show()"
   ]
  },
  {
   "cell_type": "markdown",
   "metadata": {},
   "source": [
    "For the prior, we can assume its a gaussian distribution with a large $\\sigma$"
   ]
  },
  {
   "cell_type": "code",
   "execution_count": null,
   "metadata": {
    "collapsed": false
   },
   "outputs": [],
   "source": [
    "fig, ax = plt.subplots(1, 1)\n",
    "prior = norm(loc = 5, scale = 1000)"
   ]
  },
  {
   "cell_type": "code",
   "execution_count": null,
   "metadata": {
    "collapsed": false
   },
   "outputs": [],
   "source": [
    "x = np.linspace(prior.ppf(0.01), prior.ppf(0.99), 100)\n",
    "ax.plot(x, prior.pdf(x), 'r-', lw=5, alpha=1)\n",
    "plt.axis([-1, 10, 0, 1])\n",
    "plt.show()"
   ]
  },
  {
   "cell_type": "markdown",
   "metadata": {},
   "source": [
    "calculate the product of $P(Z|x)$ and $P(x)$ by the formula\n",
    "$$N(\\mu_1, \\sigma_1^2)xN(\\mu_2, \\sigma_2^2)=N(\\frac{\\sigma_1^2\\mu_2+\\sigma_2^2\\mu_1}{\\sigma_1^2+\\sigma_2^2}, \\frac{1}{\\frac{1}{\\sigma_1^2}+\\frac{1}{\\sigma_2^2}})$$"
   ]
  },
  {
   "cell_type": "code",
   "execution_count": null,
   "metadata": {
    "collapsed": true
   },
   "outputs": [],
   "source": [
    "def gaussian_multiply(g1, g2):\n",
    "    g1_mean, g1_var = g1.stats(moments='mv')\n",
    "    g2_mean, g2_var = g2.stats(moments='mv')\n",
    "    mean = (g1_var * g2_mean + g2_var * g1_mean) / (g1_var + g2_var)\n",
    "    variance = (g1_var * g2_var) / (g1_var + g2_var)\n",
    "    #print mean, variance\n",
    "    return norm(loc = mean, scale = np.sqrt(variance))"
   ]
  },
  {
   "cell_type": "code",
   "execution_count": null,
   "metadata": {
    "collapsed": true
   },
   "outputs": [],
   "source": [
    "posterior = gaussian_multiply(likelihood, prior)"
   ]
  },
  {
   "cell_type": "code",
   "execution_count": null,
   "metadata": {
    "collapsed": false
   },
   "outputs": [],
   "source": [
    "posterior.stats()"
   ]
  },
  {
   "cell_type": "code",
   "execution_count": null,
   "metadata": {
    "collapsed": false
   },
   "outputs": [],
   "source": [
    "fig, ax = plt.subplots(1, 1)\n",
    "x = np.linspace(posterior.ppf(0.01), posterior.ppf(0.99), 100)\n",
    "ax.plot(x, posterior.pdf(x), 'r-', lw=5, alpha=1)\n",
    "plt.axis([-1, 10, 0, 1])\n",
    "plt.show()"
   ]
  },
  {
   "cell_type": "markdown",
   "metadata": {},
   "source": [
    "Let's repeat the process for several iterations"
   ]
  },
  {
   "cell_type": "code",
   "execution_count": null,
   "metadata": {
    "collapsed": true
   },
   "outputs": [],
   "source": [
    "prior = norm(loc = 5, scale = 1000)"
   ]
  },
  {
   "cell_type": "code",
   "execution_count": null,
   "metadata": {
    "collapsed": true
   },
   "outputs": [],
   "source": [
    "def update_con(prior, measurementz, covariance):\n",
    "    likelihood = measurement(measurementz, covariance)\n",
    "    posterior = gaussian_multiply(likelihood, prior)\n",
    "    return posterior"
   ]
  },
  {
   "cell_type": "code",
   "execution_count": null,
   "metadata": {
    "collapsed": false,
    "scrolled": false
   },
   "outputs": [],
   "source": [
    "Z = 3\n",
    "covariance = 0.8\n",
    "for i in range(5):\n",
    "    posterior = update_con(prior, Z, covariance)\n",
    "    prior = posterior\n",
    "    fig, ax = plt.subplots(1, 1)\n",
    "    x = np.linspace(posterior.ppf(0.001), posterior.ppf(0.999), 100)\n",
    "    ax.plot(x, posterior.pdf(x), 'r-', lw=5, alpha=1)\n",
    "    plt.axis([-1, 10, 0, 1])\n",
    "    plt.show()"
   ]
  },
  {
   "cell_type": "markdown",
   "metadata": {},
   "source": [
    "Let's add noise to measurement"
   ]
  },
  {
   "cell_type": "markdown",
   "metadata": {},
   "source": [
    "We create a random number R between 0~1\n",
    "\n",
    "$if R<0.2$ => $Z-1, covariance+0.3$\n",
    "\n",
    "$if R>0.8$ => $Z+1, covariance+0.3$"
   ]
  },
  {
   "cell_type": "code",
   "execution_count": null,
   "metadata": {
    "collapsed": true
   },
   "outputs": [],
   "source": [
    "prior = norm(loc = 5, scale = 1000)"
   ]
  },
  {
   "cell_type": "code",
   "execution_count": null,
   "metadata": {
    "collapsed": false,
    "scrolled": false
   },
   "outputs": [],
   "source": [
    "Z = 3\n",
    "covariance = 0.8\n",
    "for i in range(5):\n",
    "    R = random.random()\n",
    "    if R < 0.2:\n",
    "        posterior = update_con(prior, Z-1, covariance+0.3)\n",
    "    if R > 0.8:\n",
    "        posterior = update_con(prior, Z+1, covariance+0.3)\n",
    "    else:\n",
    "        posterior = update_con(prior, Z, covariance)\n",
    "    prior = posterior\n",
    "    fig, ax = plt.subplots(1, 1)\n",
    "    x = np.linspace(posterior.ppf(0.001), posterior.ppf(0.999), 100)\n",
    "    ax.plot(x, posterior.pdf(x), 'r-', lw=5, alpha=1)\n",
    "    plt.axis([-1, 10, 0, 1])\n",
    "    plt.show()"
   ]
  },
  {
   "cell_type": "markdown",
   "metadata": {},
   "source": [
    "#### Prediction step"
   ]
  },
  {
   "cell_type": "markdown",
   "metadata": {},
   "source": [
    "This is the prior"
   ]
  },
  {
   "cell_type": "code",
   "execution_count": null,
   "metadata": {
    "collapsed": false
   },
   "outputs": [],
   "source": [
    "fig, ax = plt.subplots(1, 1)\n",
    "x = np.linspace(prior.ppf(0.001), prior.ppf(0.999), 100)\n",
    "ax.plot(x, prior.pdf(x), 'r-', lw=5, alpha=1)\n",
    "plt.axis([-1, 10, 0, 1])\n",
    "plt.show()"
   ]
  },
  {
   "cell_type": "markdown",
   "metadata": {},
   "source": [
    "Let's assume our movement kernel is a Gaussian distribution with mean = prior.mean()+ delta_x, $\\sigma = 1$ "
   ]
  },
  {
   "cell_type": "code",
   "execution_count": null,
   "metadata": {
    "collapsed": false
   },
   "outputs": [],
   "source": [
    "delta_x = 4\n",
    "var = 1\n",
    "kernel = norm(loc = delta_x, scale = np.sqrt(var))\n",
    "fig, ax = plt.subplots(1, 1)\n",
    "x = np.linspace(kernel.ppf(0.001), kernel.ppf(0.999), 100)\n",
    "ax.plot(x, kernel.pdf(x), 'r-', lw=5, alpha=1)\n",
    "plt.axis([-1, 10, 0, 1])\n",
    "plt.show()"
   ]
  },
  {
   "cell_type": "markdown",
   "metadata": {},
   "source": [
    "The sum of the two gaussians"
   ]
  },
  {
   "cell_type": "code",
   "execution_count": null,
   "metadata": {
    "collapsed": false
   },
   "outputs": [],
   "source": [
    "predicted = norm(loc = prior.mean()+kernel.mean(), scale = np.sqrt(prior.var()+kernel.var()))\n",
    "fig, ax = plt.subplots(1, 1)\n",
    "x = np.linspace(predicted.ppf(0.001), predicted.ppf(0.999), 100)\n",
    "ax.plot(x, predicted.pdf(x), 'r-', lw=5, alpha=1)\n",
    "plt.axis([-1, 10, 0, 1])\n",
    "plt.show()"
   ]
  },
  {
   "cell_type": "markdown",
   "metadata": {},
   "source": [
    "In Kalman Filter, the predict and update iteration is as same as Bayes filter"
   ]
  },
  {
   "cell_type": "markdown",
   "metadata": {},
   "source": [
    "Let's make a simultation: \n",
    "\n",
    "a robot with a gps sensor that moves 1 unit right every timeslice. Its starting position is 0"
   ]
  },
  {
   "cell_type": "code",
   "execution_count": null,
   "metadata": {
    "collapsed": true
   },
   "outputs": [],
   "source": [
    "def predict_con(prior, delta_x, var):\n",
    "    kernel = norm(loc = delta_x, scale = np.sqrt(var))\n",
    "    predicted = norm(loc = prior.mean()+kernel.mean(), scale = np.sqrt(prior.var()+kernel.var()))\n",
    "    return predicted"
   ]
  },
  {
   "cell_type": "code",
   "execution_count": null,
   "metadata": {
    "collapsed": false
   },
   "outputs": [],
   "source": [
    "prior = norm(loc = 0, scale = 1000)\n",
    "\n",
    "fig, ax = plt.subplots(1, 1)\n",
    "x = np.linspace(prior.ppf(0.001), prior.ppf(0.999), 100)\n",
    "ax.plot(x, prior.pdf(x), 'r-', lw=5, alpha=1)\n",
    "plt.axis([-1, 10, 0, 1])\n",
    "plt.show()"
   ]
  },
  {
   "cell_type": "code",
   "execution_count": null,
   "metadata": {
    "collapsed": false
   },
   "outputs": [],
   "source": [
    "control_covariance = 0.3\n",
    "measurement_covariance = 1\n",
    "\n",
    "for i in range(10):\n",
    "    control_sig = 1\n",
    "    sim_location = i + random.random() - 0.5\n",
    "    sim_measurement = sim_location + random.random() - 0.5\n",
    "    predicted = predict_con(prior, control_sig, control_covariance)\n",
    "    posterior = update_con(predicted, sim_measurement, measurement_covariance)\n",
    "    \n",
    "    fig, ax = plt.subplots(1, 1)\n",
    "    x = np.linspace(-5, 10, 100)\n",
    "    ax.plot(x, prior.pdf(x), 'r-', lw=5, alpha=1)\n",
    "    ax.plot(x, posterior.pdf(x), 'g-', lw=5, alpha=1)\n",
    "    ax.plot(x, predicted.pdf(x), 'b-', lw=5, alpha=1)\n",
    "    plt.axis([-1, 10, 0, 1])\n",
    "    plt.show()\n",
    "    prior = posterior"
   ]
  },
  {
   "cell_type": "code",
   "execution_count": null,
   "metadata": {
    "collapsed": true
   },
   "outputs": [],
   "source": []
  },
  {
   "cell_type": "code",
   "execution_count": null,
   "metadata": {
    "collapsed": true
   },
   "outputs": [],
   "source": []
  },
  {
   "cell_type": "code",
   "execution_count": null,
   "metadata": {
    "collapsed": true
   },
   "outputs": [],
   "source": []
  }
 ],
 "metadata": {
  "kernelspec": {
   "display_name": "Python 2",
   "language": "python",
   "name": "python2"
  },
  "language_info": {
   "codemirror_mode": {
    "name": "ipython",
    "version": 2
   },
   "file_extension": ".py",
   "mimetype": "text/x-python",
   "name": "python",
   "nbconvert_exporter": "python",
   "pygments_lexer": "ipython2",
   "version": "2.7.13"
  }
 },
 "nbformat": 4,
 "nbformat_minor": 2
}
